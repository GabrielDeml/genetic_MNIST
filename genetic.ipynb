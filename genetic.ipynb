{
 "cells": [
  {
   "cell_type": "code",
   "execution_count": 5,
   "metadata": {},
   "outputs": [],
   "source": [
    "from keras.datasets import mnist\n",
    "import numpy as np\n",
    "from Environment import Environment\n",
    "from Network import Network"
   ]
  },
  {
   "cell_type": "code",
   "execution_count": null,
   "metadata": {},
   "outputs": [],
   "source": [
    "number_of_networks = 100\n",
    "number_of_generations = 100\n",
    "network_size = 28\n",
    "network_depth = 3\n",
    "muration_probability = 0.1\n",
    "elite = 2"
   ]
  },
  {
   "cell_type": "code",
   "execution_count": 2,
   "metadata": {},
   "outputs": [],
   "source": [
    "# Load dataset\n",
    "(train_X, train_y), (test_X, test_y) = mnist.load_data()"
   ]
  },
  {
   "cell_type": "code",
   "execution_count": 19,
   "metadata": {},
   "outputs": [
    {
     "name": "stderr",
     "output_type": "stream",
     "text": [
      "/tmp/ipykernel_21737/3124391152.py:12: RuntimeWarning: invalid value encountered in true_divide\n",
      "  output = ((((image * multiply_layer) / divide_layer) + add_layer) - subtract_layer)\n"
     ]
    },
    {
     "name": "stdout",
     "output_type": "stream",
     "text": [
      "5923\n",
      "5923\n",
      "5923\n",
      "5923\n",
      "5923\n",
      "5923\n",
      "5923\n",
      "5923\n",
      "5923\n",
      "5923\n"
     ]
    }
   ],
   "source": [
    "\n",
    "# Create n networks\n",
    "networks = []\n",
    "for i in range(number_of_networks):\n",
    "    networks.append(Network(network_size, network_depth))\n",
    "\n",
    "for interation in range(number_of_generations):\n",
    "    # Keep the top n elite networks\n",
    "\t\n",
    "    for network in networks:\n",
    "        \n",
    "        Environment.mutate(network, muration_probability)\n",
    "        \n"
   ]
  }
 ],
 "metadata": {
  "interpreter": {
   "hash": "e7370f93d1d0cde622a1f8e1c04877d8463912d04d973331ad4851f04de6915a"
  },
  "kernelspec": {
   "display_name": "Python 3.10.2 64-bit",
   "language": "python",
   "name": "python3"
  },
  "language_info": {
   "codemirror_mode": {
    "name": "ipython",
    "version": 3
   },
   "file_extension": ".py",
   "mimetype": "text/x-python",
   "name": "python",
   "nbconvert_exporter": "python",
   "pygments_lexer": "ipython3",
   "version": "3.10.2"
  },
  "orig_nbformat": 4
 },
 "nbformat": 4,
 "nbformat_minor": 2
}
