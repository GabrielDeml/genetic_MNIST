{
 "cells": [
  {
   "cell_type": "code",
   "execution_count": 5,
   "metadata": {},
   "outputs": [],
   "source": [
    "from keras.datasets import mnist\n",
    "import numpy as np"
   ]
  },
  {
   "cell_type": "code",
   "execution_count": 2,
   "metadata": {},
   "outputs": [],
   "source": [
    "# Load dataset\n",
    "(train_X, train_y), (test_X, test_y) = mnist.load_data()"
   ]
  },
  {
   "cell_type": "code",
   "execution_count": 4,
   "metadata": {},
   "outputs": [
    {
     "name": "stdout",
     "output_type": "stream",
     "text": [
      "(60000, 28, 28)\n",
      "(60000,)\n",
      "(10000, 28, 28)\n",
      "(10000,)\n"
     ]
    }
   ],
   "source": [
    "print(train_X.shape)\n",
    "print(train_y.shape)\n",
    "print(test_X.shape)\n",
    "print(test_y.shape)"
   ]
  },
  {
   "cell_type": "code",
   "execution_count": 10,
   "metadata": {},
   "outputs": [],
   "source": [
    "add_layer = np.zeros((28, 28))\n",
    "subtract_layer = np.zeros((28, 28))\n",
    "multiply_layer = np.zeros((28, 28))\n",
    "divide_layer = np.zeros((28, 28))"
   ]
  },
  {
   "cell_type": "code",
   "execution_count": 19,
   "metadata": {},
   "outputs": [
    {
     "name": "stderr",
     "output_type": "stream",
     "text": [
      "/tmp/ipykernel_21737/3124391152.py:12: RuntimeWarning: invalid value encountered in true_divide\n",
      "  output = ((((image * multiply_layer) / divide_layer) + add_layer) - subtract_layer)\n"
     ]
    },
    {
     "name": "stdout",
     "output_type": "stream",
     "text": [
      "5923\n",
      "5923\n",
      "5923\n",
      "5923\n",
      "5923\n",
      "5923\n",
      "5923\n",
      "5923\n",
      "5923\n",
      "5923\n"
     ]
    }
   ],
   "source": [
    "best_add_layer = np.random.rand(28, 28)\n",
    "best_subtract_layer = np.random.rand(28, 28)\t\n",
    "best_multiply_layer = np.random.rand(28, 28)\n",
    "best_divide_layer = np.random.rand(28, 28)\n",
    "best_score = 0\n",
    "for iteration in range(100):\n",
    "\tscore = 0\n",
    "\tfor i in range(60000):\n",
    "\t\t# Grab the next image from the array\n",
    "\t\timage = train_X[i]\n",
    "\t\tlabel = train_y[i] \n",
    "\t\toutput = ((((image * multiply_layer) / divide_layer) + add_layer) - subtract_layer)\n",
    "\t\t# Set to zero if nan\n",
    "\t\toutput[np.isnan(output)] = 0\n",
    "\t\ttotal = np.sum(output) / (len(output) ** 2)\n",
    "\t\t# Convert the total which is between 0 and 1 to a class between 0 and 9\n",
    "\t\tprediction = int(total * 10)\n",
    "\t\t# Check if the prediction is correct\n",
    "\t\tif prediction == label:\n",
    "\t\t\tscore += 1\n",
    "\t\t# Update the best score if needed\n",
    "\tif score > best_score:\n",
    "\t\tbest_score = score\n",
    "\t\tbest_add_layer = add_layer\n",
    "\t\tbest_subtract_layer = subtract_layer\n",
    "\t\tbest_multiply_layer = multiply_layer\n",
    "\t\tbest_divide_layer = divide_layer\n",
    "\t# Update the weights by randomly changing them\n",
    "\tadd_layer += np.random.randint(0, 1, (28, 28))\n",
    "\tsubtract_layer += np.random.randint(0, 1, (28, 28))\n",
    "\tmultiply_layer += np.random.randint(0, 1, (28, 28))\n",
    "\tdivide_layer += np.random.randint(0, 1, (28, 28))\n",
    "\t# Print the score every 100 iterations\n",
    "\tif iteration % 10 == 0:\n",
    "\t\tprint(best_score)"
   ]
  }
 ],
 "metadata": {
  "interpreter": {
   "hash": "e7370f93d1d0cde622a1f8e1c04877d8463912d04d973331ad4851f04de6915a"
  },
  "kernelspec": {
   "display_name": "Python 3.10.2 64-bit",
   "language": "python",
   "name": "python3"
  },
  "language_info": {
   "codemirror_mode": {
    "name": "ipython",
    "version": 3
   },
   "file_extension": ".py",
   "mimetype": "text/x-python",
   "name": "python",
   "nbconvert_exporter": "python",
   "pygments_lexer": "ipython3",
   "version": "3.10.2"
  },
  "orig_nbformat": 4
 },
 "nbformat": 4,
 "nbformat_minor": 2
}
